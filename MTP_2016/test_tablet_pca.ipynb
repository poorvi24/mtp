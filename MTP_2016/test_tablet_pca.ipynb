{
 "cells": [
  {
   "cell_type": "markdown",
   "metadata": {},
   "source": [
    "## Tablet data set (using PCA then Gaussian)"
   ]
  },
  {
   "cell_type": "code",
   "execution_count": 13,
   "metadata": {
    "collapsed": false
   },
   "outputs": [
    {
     "name": "stdout",
     "output_type": "stream",
     "text": [
      "Populating the interactive namespace from numpy and matplotlib\n"
     ]
    },
    {
     "name": "stderr",
     "output_type": "stream",
     "text": [
      "WARNING: pylab import has clobbered these variables: ['axes']\n",
      "`%matplotlib` prevents importing * from pylab and numpy\n"
     ]
    }
   ],
   "source": [
    "import numpy as np\n",
    "from sklearn.gaussian_process import GaussianProcess\n",
    "from sklearn.decomposition import PCA\n",
    "from matplotlib import pyplot as plt\n",
    "import pandas as pd\n",
    "%pylab inline"
   ]
  },
  {
   "cell_type": "code",
   "execution_count": 14,
   "metadata": {
    "collapsed": true
   },
   "outputs": [],
   "source": [
    "data=pd.read_csv('ramanset.csv')"
   ]
  },
  {
   "cell_type": "code",
   "execution_count": 15,
   "metadata": {
    "collapsed": false
   },
   "outputs": [],
   "source": [
    "feature_col=['Type']\n",
    "for i in xrange(3600,199,-1):\n",
    "    feature_col.append(str(i));"
   ]
  },
  {
   "cell_type": "code",
   "execution_count": 16,
   "metadata": {
    "collapsed": false
   },
   "outputs": [
    {
     "data": {
      "text/plain": [
       "0    5.286487\n",
       "1    5.252417\n",
       "2    5.494624\n",
       "3    5.496264\n",
       "4    5.729499\n",
       "Name: weight, dtype: float64"
      ]
     },
     "execution_count": 16,
     "metadata": {},
     "output_type": "execute_result"
    }
   ],
   "source": [
    "y=data['weight']\n",
    "y.head()"
   ]
  },
  {
   "cell_type": "code",
   "execution_count": 17,
   "metadata": {
    "collapsed": false
   },
   "outputs": [
    {
     "data": {
      "text/html": [
       "<div>\n",
       "<table border=\"1\" class=\"dataframe\">\n",
       "  <thead>\n",
       "    <tr style=\"text-align: right;\">\n",
       "      <th></th>\n",
       "      <th>Type</th>\n",
       "      <th>3600</th>\n",
       "      <th>3599</th>\n",
       "      <th>3598</th>\n",
       "      <th>3597</th>\n",
       "      <th>3596</th>\n",
       "      <th>3595</th>\n",
       "      <th>3594</th>\n",
       "      <th>3593</th>\n",
       "      <th>3592</th>\n",
       "      <th>...</th>\n",
       "      <th>209</th>\n",
       "      <th>208</th>\n",
       "      <th>207</th>\n",
       "      <th>206</th>\n",
       "      <th>205</th>\n",
       "      <th>204</th>\n",
       "      <th>203</th>\n",
       "      <th>202</th>\n",
       "      <th>201</th>\n",
       "      <th>200</th>\n",
       "    </tr>\n",
       "  </thead>\n",
       "  <tbody>\n",
       "    <tr>\n",
       "      <th>0</th>\n",
       "      <td>1</td>\n",
       "      <td>0.37648</td>\n",
       "      <td>0.34072</td>\n",
       "      <td>0.31380</td>\n",
       "      <td>0.30117</td>\n",
       "      <td>0.30560</td>\n",
       "      <td>0.32572</td>\n",
       "      <td>0.35712</td>\n",
       "      <td>0.39188</td>\n",
       "      <td>0.42335</td>\n",
       "      <td>...</td>\n",
       "      <td>59.603298</td>\n",
       "      <td>59.479729</td>\n",
       "      <td>59.361912</td>\n",
       "      <td>59.216850</td>\n",
       "      <td>59.018200</td>\n",
       "      <td>58.732979</td>\n",
       "      <td>58.320450</td>\n",
       "      <td>57.722679</td>\n",
       "      <td>56.868259</td>\n",
       "      <td>55.697010</td>\n",
       "    </tr>\n",
       "    <tr>\n",
       "      <th>1</th>\n",
       "      <td>1</td>\n",
       "      <td>0.46181</td>\n",
       "      <td>0.46536</td>\n",
       "      <td>0.46727</td>\n",
       "      <td>0.46541</td>\n",
       "      <td>0.45869</td>\n",
       "      <td>0.44758</td>\n",
       "      <td>0.43413</td>\n",
       "      <td>0.42185</td>\n",
       "      <td>0.41460</td>\n",
       "      <td>...</td>\n",
       "      <td>62.156342</td>\n",
       "      <td>62.022228</td>\n",
       "      <td>61.890862</td>\n",
       "      <td>61.727539</td>\n",
       "      <td>61.506962</td>\n",
       "      <td>61.193272</td>\n",
       "      <td>60.738701</td>\n",
       "      <td>60.072491</td>\n",
       "      <td>59.107941</td>\n",
       "      <td>57.775730</td>\n",
       "    </tr>\n",
       "    <tr>\n",
       "      <th>2</th>\n",
       "      <td>1</td>\n",
       "      <td>0.31230</td>\n",
       "      <td>0.31096</td>\n",
       "      <td>0.32811</td>\n",
       "      <td>0.36561</td>\n",
       "      <td>0.42090</td>\n",
       "      <td>0.48596</td>\n",
       "      <td>0.54929</td>\n",
       "      <td>0.59700</td>\n",
       "      <td>0.61931</td>\n",
       "      <td>...</td>\n",
       "      <td>61.037392</td>\n",
       "      <td>60.868259</td>\n",
       "      <td>60.701649</td>\n",
       "      <td>60.503288</td>\n",
       "      <td>60.251518</td>\n",
       "      <td>59.918880</td>\n",
       "      <td>59.468910</td>\n",
       "      <td>58.841530</td>\n",
       "      <td>57.956501</td>\n",
       "      <td>56.742352</td>\n",
       "    </tr>\n",
       "    <tr>\n",
       "      <th>3</th>\n",
       "      <td>1</td>\n",
       "      <td>0.80430</td>\n",
       "      <td>0.82030</td>\n",
       "      <td>0.83026</td>\n",
       "      <td>0.83234</td>\n",
       "      <td>0.82650</td>\n",
       "      <td>0.81450</td>\n",
       "      <td>0.79965</td>\n",
       "      <td>0.78530</td>\n",
       "      <td>0.77486</td>\n",
       "      <td>...</td>\n",
       "      <td>60.487961</td>\n",
       "      <td>60.387821</td>\n",
       "      <td>60.283081</td>\n",
       "      <td>60.131451</td>\n",
       "      <td>59.901779</td>\n",
       "      <td>59.558048</td>\n",
       "      <td>59.059399</td>\n",
       "      <td>58.348389</td>\n",
       "      <td>57.355640</td>\n",
       "      <td>56.028000</td>\n",
       "    </tr>\n",
       "    <tr>\n",
       "      <th>4</th>\n",
       "      <td>1</td>\n",
       "      <td>0.59895</td>\n",
       "      <td>0.60989</td>\n",
       "      <td>0.61788</td>\n",
       "      <td>0.62057</td>\n",
       "      <td>0.61810</td>\n",
       "      <td>0.61321</td>\n",
       "      <td>0.60997</td>\n",
       "      <td>0.61180</td>\n",
       "      <td>0.62084</td>\n",
       "      <td>...</td>\n",
       "      <td>61.957829</td>\n",
       "      <td>61.879768</td>\n",
       "      <td>61.802261</td>\n",
       "      <td>61.686989</td>\n",
       "      <td>61.507820</td>\n",
       "      <td>61.233830</td>\n",
       "      <td>60.826511</td>\n",
       "      <td>60.226360</td>\n",
       "      <td>59.355900</td>\n",
       "      <td>58.148998</td>\n",
       "    </tr>\n",
       "  </tbody>\n",
       "</table>\n",
       "<p>5 rows × 3402 columns</p>\n",
       "</div>"
      ],
      "text/plain": [
       "   Type     3600     3599     3598     3597     3596     3595     3594  \\\n",
       "0     1  0.37648  0.34072  0.31380  0.30117  0.30560  0.32572  0.35712   \n",
       "1     1  0.46181  0.46536  0.46727  0.46541  0.45869  0.44758  0.43413   \n",
       "2     1  0.31230  0.31096  0.32811  0.36561  0.42090  0.48596  0.54929   \n",
       "3     1  0.80430  0.82030  0.83026  0.83234  0.82650  0.81450  0.79965   \n",
       "4     1  0.59895  0.60989  0.61788  0.62057  0.61810  0.61321  0.60997   \n",
       "\n",
       "      3593     3592    ...            209        208        207        206  \\\n",
       "0  0.39188  0.42335    ...      59.603298  59.479729  59.361912  59.216850   \n",
       "1  0.42185  0.41460    ...      62.156342  62.022228  61.890862  61.727539   \n",
       "2  0.59700  0.61931    ...      61.037392  60.868259  60.701649  60.503288   \n",
       "3  0.78530  0.77486    ...      60.487961  60.387821  60.283081  60.131451   \n",
       "4  0.61180  0.62084    ...      61.957829  61.879768  61.802261  61.686989   \n",
       "\n",
       "         205        204        203        202        201        200  \n",
       "0  59.018200  58.732979  58.320450  57.722679  56.868259  55.697010  \n",
       "1  61.506962  61.193272  60.738701  60.072491  59.107941  57.775730  \n",
       "2  60.251518  59.918880  59.468910  58.841530  57.956501  56.742352  \n",
       "3  59.901779  59.558048  59.059399  58.348389  57.355640  56.028000  \n",
       "4  61.507820  61.233830  60.826511  60.226360  59.355900  58.148998  \n",
       "\n",
       "[5 rows x 3402 columns]"
      ]
     },
     "execution_count": 17,
     "metadata": {},
     "output_type": "execute_result"
    }
   ],
   "source": [
    "X=data[feature_col]\n",
    "X.head()"
   ]
  },
  {
   "cell_type": "code",
   "execution_count": 18,
   "metadata": {
    "collapsed": false
   },
   "outputs": [
    {
     "data": {
      "text/plain": [
       "array([[  1.        ,   0.37648001,   0.34072   , ...,  57.72267914,\n",
       "         56.86825943,  55.69701004],\n",
       "       [  1.        ,   0.46180999,   0.46535999, ...,  60.07249069,\n",
       "         59.10794067,  57.77573013],\n",
       "       [  1.        ,   0.3123    ,   0.31095999, ...,  58.84152985,\n",
       "         57.95650101,  56.74235153],\n",
       "       ..., \n",
       "       [  4.        ,   1.37319005,   1.40181994, ...,  44.38428116,\n",
       "         43.5832901 ,  42.49391174],\n",
       "       [  4.        ,   1.37188005,   1.35969996, ...,  48.19480896,\n",
       "         47.32255173,  46.12488174],\n",
       "       [  4.        ,   1.30224001,   1.31962001, ...,  47.84791183,\n",
       "         46.9129982 ,  45.66690063]])"
      ]
     },
     "execution_count": 18,
     "metadata": {},
     "output_type": "execute_result"
    }
   ],
   "source": [
    "X.as_matrix()\n",
    "#X.shape"
   ]
  },
  {
   "cell_type": "code",
   "execution_count": 19,
   "metadata": {
    "collapsed": false
   },
   "outputs": [],
   "source": [
    "pca = PCA(copy=True,n_components=30)\n",
    "pca.fit(X)\n",
    "X = pca.transform(X)"
   ]
  },
  {
   "cell_type": "code",
   "execution_count": 20,
   "metadata": {
    "collapsed": false
   },
   "outputs": [
    {
     "data": {
      "text/plain": [
       "(120, 30)"
      ]
     },
     "execution_count": 20,
     "metadata": {},
     "output_type": "execute_result"
    }
   ],
   "source": [
    "X.shape"
   ]
  },
  {
   "cell_type": "code",
   "execution_count": 21,
   "metadata": {
    "collapsed": false
   },
   "outputs": [
    {
     "data": {
      "text/plain": [
       "GaussianProcess(beta0=None, corr=<function squared_exponential at 0x476ccf8>,\n",
       "        normalize=True, nugget=array(2.220446049250313e-15),\n",
       "        optimizer='fmin_cobyla', random_start=100,\n",
       "        random_state=<mtrand.RandomState object at 0x3c26110>,\n",
       "        regr=<function constant at 0x476c938>, storage_mode='full',\n",
       "        theta0=array([[ 0.1]]), thetaL=array([[ 0.001]]),\n",
       "        thetaU=array([[1]]), verbose=False)"
      ]
     },
     "execution_count": 21,
     "metadata": {},
     "output_type": "execute_result"
    }
   ],
   "source": [
    "from sklearn.cross_validation import train_test_split\n",
    "X_train,X_test,y_train,y_test=train_test_split(X,y)\n",
    "gp = GaussianProcess(corr='squared_exponential', theta0=1e-1,\n",
    "                     thetaL=1e-3, thetaU=1,\n",
    "                     random_start=100)\n",
    "gp.fit(X_train, y_train)"
   ]
  },
  {
   "cell_type": "code",
   "execution_count": 22,
   "metadata": {
    "collapsed": true
   },
   "outputs": [],
   "source": [
    "y_pred, MSE = gp.predict(X_test, eval_MSE=True)\n",
    "sigma = np.sqrt(MSE)"
   ]
  },
  {
   "cell_type": "code",
   "execution_count": 23,
   "metadata": {
    "collapsed": false
   },
   "outputs": [
    {
     "name": "stdout",
     "output_type": "stream",
     "text": [
      "0.46852514941\n"
     ]
    }
   ],
   "source": [
    "from sklearn import metrics\n",
    "MAD= metrics.mean_squared_error(y_test,y_pred)\n",
    "print MAD"
   ]
  },
  {
   "cell_type": "code",
   "execution_count": 24,
   "metadata": {
    "collapsed": false
   },
   "outputs": [
    {
     "data": {
      "image/png": "[encoded data removed]",
      "text/plain": [
       "<matplotlib.figure.Figure at 0x607a410>"
      ]
     },
     "metadata": {},
     "output_type": "display_data"
    }
   ],
   "source": [
    "fig = plt.figure()\n",
    "axes=fig.add_subplot(111)\n",
    "a=np.arange(10)\n",
    "axes.plot(y_pred, y_test, color='red',linestyle='',marker='o')\n",
    "axes.plot(a,a, color='b',linestyle='-')\n",
    "axes.set_xlabel('Predicted Sales',fontweight='bold')\n",
    "axes.set_ylabel('Actual Sales',fontweight='bold')\n",
    "axes.grid()\n",
    "\n",
    "fig.savefig('tablet_pca.png')\n",
    "plt.show()"
   ]
  },
  {
   "cell_type": "code",
   "execution_count": null,
   "metadata": {
    "collapsed": true
   },
   "outputs": [],
   "source": []
  }
 ],
 "metadata": {
  "kernelspec": {
   "display_name": "Python 2",
   "language": "python",
   "name": "python2"
  },
  "language_info": {
   "codemirror_mode": {
    "name": "ipython",
    "version": 2
   },
   "file_extension": ".py",
   "mimetype": "text/x-python",
   "name": "python",
   "nbconvert_exporter": "python",
   "pygments_lexer": "ipython2",
   "version": "2.7.3"
  }
 },
 "nbformat": 4,
 "nbformat_minor": 0
}
